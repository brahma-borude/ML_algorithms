import numpy as np
import pandas as pd
import matplotlib.pyplot as plt

from sklearn.datasets import load_iris
from sklearn.cluster import KMeans

import warnings
warnings.filterwarnings('ignore')

plt.style.use('ggplot')


iris = load_iris()
iris_df = pd.DataFrame(data=iris.data, columns=iris.feature_names)
iris_df['target'] = iris.target
iris_df.head()


iris.target_names


X = iris.data


fig, (ax1, ax2) = plt.subplots(1, 2, figsize=(11, 5))
ax1.scatter(x='sepal length (cm)', y='sepal width (cm)', c= iris.target, s=100, data=iris_df)
ax2.scatter(x='sepal length (cm)', y='sepal width (cm)', c= iris.target, s=100, data=iris_df)
ax1.set_ylabel('sepal width (cm)')
ax1.set_xlabel('sepal length (cm)')
ax2.set_ylabel('petal width (cm)')
ax2.set_xlabel('petal length (cm)')


wcss = []
for i in range(1, 11):
    kmeans = KMeans(n_clusters=i, n_init=10, random_state=32)
    kmeans.fit(X)
    wcss.append(kmeans.inertia_)


plt.figure(figsize=(6,4))
plt.plot(range(1,11), wcss)
plt.title('The Elbow method')
plt.xlabel('Number of Clusters')
plt.ylabel('WCSS')
plt.show()


kmeans = KMeans(n_clusters=3, init='k-means++', max_iter=300, n_init=10)
y_kmeans = kmeans.fit_predict(X)


plt.scatter(X[y_kmeans==0, 0], X[y_kmeans==0, 1], s=100, c='red', label='setosa')
plt.scatter(X[y_kmeans==1, 0], X[y_kmeans==1, 1], s=100, c='orange', label='versicolour')
plt.scatter(X[y_kmeans==2, 0], X[y_kmeans==2, 1], s=100, c='blue', label='virginica')
plt.legend()
