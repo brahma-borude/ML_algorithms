


import pandas as pd
import matplotlib.pyplot as plt
import seaborn as sns

from sklearn.svm import SVC
from sklearn.preprocessing import StandardScaler
from sklearn.model_selection import train_test_split
from sklearn.datasets import load_iris
from sklearn.metrics import confusion_matrix, classification_report


iris = load_iris()
iris_df = pd.DataFrame(iris.data, columns=iris.feature_names)
iris_df['species'] = iris.target
iris_df.head()


print(iris.target_names)


X = iris.data
y = iris.target
print(f"X: {X.shape}")
print(f"y: {y.shape}")





X_train, X_test, y_train, y_test = train_test_split(X, y, test_size=0.2, random_state=0)
print(f"X_train: {X_train.shape} | y_train: {y_train.shape}")
print(f"X_test: {X_test.shape} | y_test: {y_test.shape}")





sns.set_style('whitegrid')
fig, (ax1, ax2) = plt.subplots(1, 2, figsize=(11, 5))
ax1.scatter(X[:, 0], X[:, 1], c=y, cmap='Accent')
ax1.set_xlabel('speal length (cm)')
ax1.set_ylabel('sepal width (cm)')
ax2.scatter(X[:, 2], X[:, 3], c=y, cmap='Accent')
ax2.set_xlabel('petal length (cm)')
ax2.set_ylabel('petal width (cm)')
plt.show()





scaler = StandardScaler()
X_train = scaler.fit_transform(X_train)
X_test = scaler.transform(X_test)





rbf_clf = SVC(kernel='rbf') # Using rbf kernel
linear_clf = SVC(kernel='linear') # Using linear kernel
poly_clf = SVC(kernel='poly', degree=3, gamma=2) # Using poly kernal with degree=3


rbf = rbf_clf.fit(X_train, y_train)
poly = poly_clf.fit(X_train, y_train)
linear = linear_clf.fit(X_train, y_train)





rbf_pred = rbf.predict(X_test)
linear_pred = linear.predict(X_test)
poly_pred = poly.predict(X_test)





rbf_conf_m = confusion_matrix(y_test, rbf_pred)
linear_conf_m = confusion_matrix(y_test, linear_pred)
poly_conf_m = confusion_matrix(y_test, poly_pred)

fig, (ax1, ax2, ax3) = plt.subplots(1, 3, figsize=(19, 5))
sns.heatmap(rbf_conf_m, annot=True, ax=ax1)
ax1.set_title('kernel - rbf')
sns.heatmap(linear_conf_m, annot=True, ax=ax2)
ax2.set_title('kernel - linear')
sns.heatmap(poly_conf_m, annot=True, ax=ax3)
ax3.set_title('kernel - poly')
plt.show()





print(f"RBF classifier: \n{classification_report(rbf_pred, y_test)}")


print(f"Linear classifier: \n{classification_report(linear_pred, y_test)}")


print(f"Poly classifier: \n{classification_report(poly_pred, y_test)}")
