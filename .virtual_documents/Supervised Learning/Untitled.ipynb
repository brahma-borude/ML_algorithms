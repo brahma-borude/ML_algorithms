import pandas as pd
import matplotlib.pyplot as plt
import seaborn as sns

from sklearn.datasets import load_iris
from sklearn.model_selection import train_test_split
from sklearn.metrics import confusion_matrix, classification_report


iris = load_iris()
iris_df = pd.DataFrame(iris.data, columns=iris.feature_names)
iris_df['species'] = iris.target


iris_df.head()


print(iris.target_names)


plt.style.use('seaborn-v0_8-whitegrid')
fig, (ax1, ax2) = plt.subplots(1, 2, figsize=(11,5))
ax1.scatter(x=iris_df['sepal length (cm)'], y=iris_df['sepal width (cm)'], c=iris.target)
plt.show()



