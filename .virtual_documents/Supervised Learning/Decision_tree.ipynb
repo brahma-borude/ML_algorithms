import numpy as np
import pandas as pd
import matplotlib.pyplot as plt
import seaborn as sns

from sklearn.datasets import load_iris
from sklearn.tree import DecisionTreeClassifier, plot_tree
from sklearn.model_selection import train_test_split
from sklearn.preprocessing import StandardScaler
from sklearn.metrics import classification_report, confusion_matrix


iris = load_iris()
data = np.c_[iris.data, iris.target]
columns = np.append(iris.feature_names, ['target'])
iris_df = pd.DataFrame(data=data, columns=columns)
iris_df.head()


sns.heatmap(iris_df.corr(), annot=True )


X = iris.data
y = iris.target


X_train, X_test, y_train, y_test = train_test_split(X, y, test_size=0.2, random_state=32)
print(f'X_train: {X_train.size}')
print(f'y_train: {y_train.size}')
print(f'X_test: {X_test.size}')
print(f'y_test: {y_test.size}')


scaler = StandardScaler()
X_train = scaler.fit_transform(X_train)
X_test = scaler.transform(X_test)


clf = DecisionTreeClassifier(criterion='entropy', max_depth=2, random_state=32)
clf.fit(X_train, y_train)


y_pred = clf.predict(X_test)


conf_m = confusion_matrix(y_test, y_pred)
sns.heatmap(conf_m, annot=True)


plot_tree(clf)
plt.show()


print(classification_report(y_test, y_pred))
