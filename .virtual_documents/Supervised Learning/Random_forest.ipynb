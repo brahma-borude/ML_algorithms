import numpy as np
import pandas as pd
import matplotlib.pyplot as plt
import seaborn as sns

from sklearn.model_selection import train_test_split
from sklearn.ensemble import RandomForestClassifier
from sklearn.metrics import accuracy_score, classification_report, confusion_matrix
from sklearn.preprocessing import StandardScaler
from sklearn.datasets import load_iris


iris = load_iris()
iris_df = pd.DataFrame(data=iris.data, columns=iris.feature_names)
iris_df['target'] = pd.Series(iris.target)
iris_df.head()


iris.target_names


plt.figure(figsize=(6,3))
plt.style.use('fivethirtyeight')
fig, (ax1, ax2) = plt.subplots(1,2, figsize=(11, 5))
sns.scatterplot(x='sepal length (cm)', y='sepal width (cm)', hue=iris.target, data=iris_df, ax=ax1)
ax1.legend(labels=['setosa', 'versicolor', 'virginica'])
sns.scatterplot(x='petal length (cm)', y='petal width (cm)', hue=iris.target, data=iris_df, ax=ax2)
ax2.legend(labels=['setosa', 'versicolor', 'virginica'])


iris_df.describe()


X = iris.data
y = iris.target


X_train, X_test, y_train, y_test = train_test_split(X, y, test_size=0.2, random_state=32)
print(f"X_train: {X_train.shape}")
print(f"y_train: {y_train.shape}")
print(f"X_test: {X_test.shape}")
print(f"y_test: {y_test.shape}")


scaler = StandardScaler()
X_train = scaler.fit_transform(X_train)
X_test = scaler.transform(X_test)


train_df = pd.DataFrame(data=X_train, columns=iris.feature_names)
train_df['target'] = pd.Series(y_train)
train_df.head()


clf = RandomForestClassifier()
clf.fit(X_train, y_train)


y_pred = clf.predict(X_test)
print(f"Accuracy score: {(accuracy_score(y_test, y_pred)*100):.2f}%")


conf_m = confusion_matrix(y_test, y_pred)
plt.figure(figsize=(4,3))
sns.heatmap(conf_m, annot=True)


print(classification_report(y_test, y_pred))
