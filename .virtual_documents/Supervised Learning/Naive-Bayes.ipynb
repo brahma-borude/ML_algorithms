


import pandas as pd
import matplotlib.pyplot as plt
import seaborn as sns

from sklearn.naive_bayes import GaussianNB # Gaussian Naive Bayes
from sklearn.datasets import load_iris
from sklearn.model_selection import train_test_split
from sklearn.metrics import confusion_matrix, classification_report





iris = load_iris()
iris_df = pd.DataFrame(iris.data, columns=iris.feature_names)
iris_df['species'] = iris.target


iris_df.head()


print(iris.target_names) # target labels





palette = sns.color_palette('Set2')
fig, (ax1, ax2) = plt.subplots(1, 2, figsize=(11,5))
sns.scatterplot(x='sepal length (cm)', y='sepal width (cm)', hue=iris.target, data=iris_df, ax=ax1, palette=palette)
ax1.legend(labels=['setosa', 'versicolor', 'virginica'])
sns.scatterplot(x='petal length (cm)', y='petal width (cm)', hue=iris.target, data=iris_df, ax=ax2, palette=palette)
ax2.legend(labels=['setosa', 'versicolor', 'virginica'])





X = iris.data
y = iris.target

X_train, X_test, y_train, y_test = train_test_split(X, y, test_size=0.2, random_state=0)
print(f"X_train: {X_train.shape}")
print(f"y_train: {y_train.shape}")
print(f"X_test: {X_test.shape}")
print(f"y_test: {y_test.shape}")





GNB_clf = GaussianNB()
GNB_clf





GNB_clf.fit(X_train, y_train)


y_pred = GNB_clf.predict(X_test)





conf_m = confusion_matrix(y_pred, y_test)
sns.heatmap(conf_m, annot=True)





print('Classification report: \n', classification_report(y_pred, y_test))
