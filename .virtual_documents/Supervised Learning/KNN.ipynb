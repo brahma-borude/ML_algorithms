


import numpy as np
import pandas as pd
import matplotlib.pyplot as plt
import seaborn as sns

from sklearn.datasets import load_iris
from sklearn.model_selection import train_test_split
from sklearn.neighbors import KNeighborsClassifier
from sklearn.metrics import classification_report, confusion_matrix


# Load the IRIS dataset
iris = load_iris()
# Create dataframe using iris.data
iris_data = pd.DataFrame(data=iris.data, columns=iris.feature_names)
iris_data['class'] = iris.target
iris_data.head()





plt.figure(figsize=(9,6))
plt.style.use('fivethirtyeight')
fig, (ax1, ax2) = plt.subplots(1,2, figsize=(11, 5))
sns.scatterplot(x='sepal length (cm)', y='sepal width (cm)', hue=iris.target, data=iris_data, ax=ax1)
ax1.legend(labels=['setosa', 'versicolor', 'virginica'])
sns.scatterplot(x='petal length (cm)', y='petal width (cm)', hue=iris.target, data=iris_data, ax=ax2)
ax2.legend(labels=['setosa', 'versicolor', 'virginica'])


iris.target_names





X = iris.data # Features (150, 4)
y = iris.target # Targets or labels (150,)

# Spliting data in training and testing sets
X_train, X_test, y_train, y_test = train_test_split(X, y, test_size=0.2, random_state=32)
print(f"X_train: {X_train.size}")
print(f"y_train: {y_train.size}")
print(f"X_test: {X_test.size}")
print(f"y_test: {y_test.size}")





KNN_classifier = KNeighborsClassifier(n_neighbors=3)
KNN_classifier.fit(X_train, y_train)


y_pred = KNN_classifier.predict(X_test)





conf_m = confusion_matrix(y_test, y_pred)
plt.figure(figsize=(6,4))
sns.heatmap(conf_m/np.sum(conf_m), annot=True, fmt='.2%', cmap='Blues')


print(classification_report(y_test, y_pred))





error_rate = []
for i in range(1, 31):
    knn = KNeighborsClassifier(n_neighbors=i)
    knn.fit(X_train, y_train)
    y_pred = knn.predict(X_test)
    error_rate.append(np.mean(y_pred != y_test))
    


plt.figure(figsize=(12,6))
plt.plot(range(1,31), error_rate, marker='o', markersize=15)
plt.title('Best K values')
plt.xlabel('k-values')
plt.ylabel('Error rate')
plt.xticks(range(1,31))
plt.show()

